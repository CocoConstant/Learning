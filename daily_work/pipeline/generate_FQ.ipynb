{
 "cells": [
  {
   "cell_type": "code",
   "execution_count": 1,
   "metadata": {},
   "outputs": [],
   "source": [
    "import pandas as pd"
   ]
  },
  {
   "cell_type": "code",
   "execution_count": 2,
   "metadata": {},
   "outputs": [
    {
     "name": "stderr",
     "output_type": "stream",
     "text": [
      "/home/ouyangkang/software/miniconda3/envs/sc/lib/python3.11/site-packages/openpyxl/styles/stylesheet.py:237: UserWarning: Workbook contains no default style, apply openpyxl's default\n",
      "  warn(\"Workbook contains no default style, apply openpyxl's default\")\n"
     ]
    }
   ],
   "source": [
    "data = pd.read_excel('/mnt/c/Users/ouyangkang/Desktop/任务单W250211025测序数据-20250305.xlsx')"
   ]
  },
  {
   "cell_type": "code",
   "execution_count": 3,
   "metadata": {},
   "outputs": [
    {
     "data": {
      "text/html": [
       "<div>\n",
       "<style scoped>\n",
       "    .dataframe tbody tr th:only-of-type {\n",
       "        vertical-align: middle;\n",
       "    }\n",
       "\n",
       "    .dataframe tbody tr th {\n",
       "        vertical-align: top;\n",
       "    }\n",
       "\n",
       "    .dataframe thead th {\n",
       "        text-align: right;\n",
       "    }\n",
       "</style>\n",
       "<table border=\"1\" class=\"dataframe\">\n",
       "  <thead>\n",
       "    <tr style=\"text-align: right;\">\n",
       "      <th></th>\n",
       "      <th>状态</th>\n",
       "      <th>加测样品编号</th>\n",
       "      <th>生产样品编号</th>\n",
       "      <th>样品名称</th>\n",
       "      <th>物种</th>\n",
       "      <th>数据文件名称</th>\n",
       "      <th>归属方向</th>\n",
       "      <th>任务单号</th>\n",
       "      <th>SN号</th>\n",
       "      <th>碱基质量体系</th>\n",
       "      <th>...</th>\n",
       "      <th>samNCountRead2</th>\n",
       "      <th>samNCountTotal</th>\n",
       "      <th>samGC</th>\n",
       "      <th>samQ10</th>\n",
       "      <th>samQ20</th>\n",
       "      <th>samQ30Read1</th>\n",
       "      <th>samQ30Read2</th>\n",
       "      <th>samQ30Total</th>\n",
       "      <th>Average sequencing depth (X)</th>\n",
       "      <th>Coverage at least 20X (%)</th>\n",
       "    </tr>\n",
       "  </thead>\n",
       "  <tbody>\n",
       "    <tr>\n",
       "      <th>0</th>\n",
       "      <td>已交付</td>\n",
       "      <td>NaN</td>\n",
       "      <td>Y00785N9-1</td>\n",
       "      <td>Y00785N9-1</td>\n",
       "      <td>时空组学-human</td>\n",
       "      <td>DP8480013523BR_L01_1~4</td>\n",
       "      <td>超级细胞研究所</td>\n",
       "      <td>W250211025</td>\n",
       "      <td>Y00785N9</td>\n",
       "      <td>Q4</td>\n",
       "      <td>...</td>\n",
       "      <td>0.01</td>\n",
       "      <td>0.01</td>\n",
       "      <td>49.20</td>\n",
       "      <td>99.99</td>\n",
       "      <td>97.27</td>\n",
       "      <td>89.62</td>\n",
       "      <td>91.46</td>\n",
       "      <td>90.96</td>\n",
       "      <td>NaN</td>\n",
       "      <td>NaN</td>\n",
       "    </tr>\n",
       "    <tr>\n",
       "      <th>1</th>\n",
       "      <td>已交付</td>\n",
       "      <td>NaN</td>\n",
       "      <td>Y00785N9-2</td>\n",
       "      <td>Y00785N9-2</td>\n",
       "      <td>时空组学-human</td>\n",
       "      <td>DP8480013522BR_L01_5~8</td>\n",
       "      <td>超级细胞研究所</td>\n",
       "      <td>W250211025</td>\n",
       "      <td>Y00785N9</td>\n",
       "      <td>Q4</td>\n",
       "      <td>...</td>\n",
       "      <td>0.00</td>\n",
       "      <td>0.00</td>\n",
       "      <td>51.24</td>\n",
       "      <td>100.00</td>\n",
       "      <td>98.03</td>\n",
       "      <td>92.18</td>\n",
       "      <td>92.92</td>\n",
       "      <td>92.72</td>\n",
       "      <td>NaN</td>\n",
       "      <td>NaN</td>\n",
       "    </tr>\n",
       "    <tr>\n",
       "      <th>2</th>\n",
       "      <td>已交付</td>\n",
       "      <td>NaN</td>\n",
       "      <td>Y00785NC-1</td>\n",
       "      <td>Y00785NC-1</td>\n",
       "      <td>时空组学-human</td>\n",
       "      <td>DP8480013502BR_L01_9~12</td>\n",
       "      <td>超级细胞研究所</td>\n",
       "      <td>W250211025</td>\n",
       "      <td>Y00785NC</td>\n",
       "      <td>Q4</td>\n",
       "      <td>...</td>\n",
       "      <td>0.01</td>\n",
       "      <td>0.01</td>\n",
       "      <td>49.93</td>\n",
       "      <td>99.99</td>\n",
       "      <td>96.83</td>\n",
       "      <td>87.57</td>\n",
       "      <td>90.80</td>\n",
       "      <td>89.92</td>\n",
       "      <td>NaN</td>\n",
       "      <td>NaN</td>\n",
       "    </tr>\n",
       "    <tr>\n",
       "      <th>3</th>\n",
       "      <td>已交付</td>\n",
       "      <td>NaN</td>\n",
       "      <td>Y00785NC-2</td>\n",
       "      <td>Y00785NC-2</td>\n",
       "      <td>时空组学-human</td>\n",
       "      <td>DP8480014360TR_L01_13~16</td>\n",
       "      <td>超级细胞研究所</td>\n",
       "      <td>W250211025</td>\n",
       "      <td>Y00785NC</td>\n",
       "      <td>Q4</td>\n",
       "      <td>...</td>\n",
       "      <td>0.00</td>\n",
       "      <td>0.00</td>\n",
       "      <td>47.26</td>\n",
       "      <td>100.00</td>\n",
       "      <td>96.77</td>\n",
       "      <td>87.25</td>\n",
       "      <td>90.90</td>\n",
       "      <td>89.91</td>\n",
       "      <td>NaN</td>\n",
       "      <td>NaN</td>\n",
       "    </tr>\n",
       "    <tr>\n",
       "      <th>4</th>\n",
       "      <td>已交付</td>\n",
       "      <td>NaN</td>\n",
       "      <td>Y00785ND-1</td>\n",
       "      <td>Y00785ND-1</td>\n",
       "      <td>时空组学-human</td>\n",
       "      <td>DP8480013502BR_L01_17&amp;19~21&amp;23~24&amp;33</td>\n",
       "      <td>超级细胞研究所</td>\n",
       "      <td>W250211025</td>\n",
       "      <td>Y00785ND</td>\n",
       "      <td>Q4</td>\n",
       "      <td>...</td>\n",
       "      <td>0.01</td>\n",
       "      <td>0.01</td>\n",
       "      <td>49.58</td>\n",
       "      <td>99.99</td>\n",
       "      <td>96.35</td>\n",
       "      <td>86.68</td>\n",
       "      <td>89.13</td>\n",
       "      <td>88.47</td>\n",
       "      <td>NaN</td>\n",
       "      <td>NaN</td>\n",
       "    </tr>\n",
       "  </tbody>\n",
       "</table>\n",
       "<p>5 rows × 65 columns</p>\n",
       "</div>"
      ],
      "text/plain": [
       "    状态 加测样品编号       生产样品编号        样品名称          物种  \\\n",
       "0  已交付     NaN  Y00785N9-1  Y00785N9-1  时空组学-human   \n",
       "1  已交付     NaN  Y00785N9-2  Y00785N9-2  时空组学-human   \n",
       "2  已交付     NaN  Y00785NC-1  Y00785NC-1  时空组学-human   \n",
       "3  已交付     NaN  Y00785NC-2  Y00785NC-2  时空组学-human   \n",
       "4  已交付     NaN  Y00785ND-1  Y00785ND-1  时空组学-human   \n",
       "\n",
       "                                 数据文件名称     归属方向        任务单号       SN号 碱基质量体系  \\\n",
       "0                DP8480013523BR_L01_1~4  超级细胞研究所  W250211025  Y00785N9     Q4   \n",
       "1                DP8480013522BR_L01_5~8  超级细胞研究所  W250211025  Y00785N9     Q4   \n",
       "2               DP8480013502BR_L01_9~12  超级细胞研究所  W250211025  Y00785NC     Q4   \n",
       "3              DP8480014360TR_L01_13~16  超级细胞研究所  W250211025  Y00785NC     Q4   \n",
       "4  DP8480013502BR_L01_17&19~21&23~24&33  超级细胞研究所  W250211025  Y00785ND     Q4   \n",
       "\n",
       "   ... samNCountRead2 samNCountTotal  samGC  samQ10 samQ20 samQ30Read1  \\\n",
       "0  ...           0.01           0.01  49.20   99.99  97.27       89.62   \n",
       "1  ...           0.00           0.00  51.24  100.00  98.03       92.18   \n",
       "2  ...           0.01           0.01  49.93   99.99  96.83       87.57   \n",
       "3  ...           0.00           0.00  47.26  100.00  96.77       87.25   \n",
       "4  ...           0.01           0.01  49.58   99.99  96.35       86.68   \n",
       "\n",
       "  samQ30Read2  samQ30Total  Average sequencing depth (X)  \\\n",
       "0       91.46        90.96                           NaN   \n",
       "1       92.92        92.72                           NaN   \n",
       "2       90.80        89.92                           NaN   \n",
       "3       90.90        89.91                           NaN   \n",
       "4       89.13        88.47                           NaN   \n",
       "\n",
       "  Coverage at least 20X (%)  \n",
       "0                       NaN  \n",
       "1                       NaN  \n",
       "2                       NaN  \n",
       "3                       NaN  \n",
       "4                       NaN  \n",
       "\n",
       "[5 rows x 65 columns]"
      ]
     },
     "execution_count": 3,
     "metadata": {},
     "output_type": "execute_result"
    }
   ],
   "source": [
    "data.head()"
   ]
  },
  {
   "cell_type": "code",
   "execution_count": 68,
   "metadata": {},
   "outputs": [],
   "source": [
    "output_df = pd.DataFrame(columns=['EntityID', 'SN', 'FASTQ1', 'FASTQ2', 'MASK', 'ImageTar', 'ImagePreDir', 'IPR', 'SplitNum', 'Tissue', 'CIDStart', 'CIDLength', 'MIDStart', 'MIDLength', 'rRNARemove', 'LargeChip', 'Reference',\n",
    "                                  'CellSpecies', 'CellSample'])"
   ]
  },
  {
   "cell_type": "code",
   "execution_count": 65,
   "metadata": {},
   "outputs": [],
   "source": [
    "data = data[(data['状态'] != '终止') & (data['状态'].notna())]"
   ]
  },
  {
   "cell_type": "code",
   "execution_count": 67,
   "metadata": {},
   "outputs": [
    {
     "data": {
      "text/plain": [
       "(13, 65)"
      ]
     },
     "execution_count": 67,
     "metadata": {},
     "output_type": "execute_result"
    }
   ],
   "source": [
    "data.shape"
   ]
  },
  {
   "cell_type": "code",
   "execution_count": 70,
   "metadata": {},
   "outputs": [],
   "source": [
    "from pathlib import Path\n",
    "\n",
    "index_num = 0\n",
    "\n",
    "for index, row in data.iterrows():\n",
    "    dir_path = Path(row['二级路径'])\n",
    "    barcode_list = row['Barcode号'].split('&')\n",
    "    lane = row['Lane']\n",
    "    seq_chip = row['芯片号']\n",
    "    sample_id = row['样品名称']\n",
    "    SN = row['SN号']\n",
    "\n",
    "    if len(barcode_list) == 1:\n",
    "        min_num = int(barcode_list[0].split('~')[0])\n",
    "        max_num = int(barcode_list[0].split('~')[-1])\n",
    "        for num in range(min_num, max_num+1):\n",
    "            fq1_path = dir_path / f'{seq_chip}_{lane}_{num}_1.fq.gz'\n",
    "            fq2_path = dir_path / f'{seq_chip}_{lane}_{num}_2.fq.gz'\n",
    "\n",
    "            result_list = [sample_id, SN, fq1_path, fq2_path, f'/Files/RawData/{SN}.barcodeToPos.h5', None, None, None, 16, 'cell', 0, 25, 25, 10, 'FALSE', 'FALSE', 'human', 'human', 'pbmc']\n",
    "            output_df.loc[len(output_df)] = result_list\n",
    "    else:\n",
    "        for num_list in barcode_list:\n",
    "            min_num = int(num_list.split('~')[0])\n",
    "            max_num = int(num_list.split('~')[-1])\n",
    "            for num in range(min_num, max_num+1):\n",
    "                fq1_path = dir_path / f'{seq_chip}_{lane}_{num}_1.fq.gz'\n",
    "                fq2_path = dir_path / f'{seq_chip}_{lane}_{num}_2.fq.gz'\n",
    "                result_list = [sample_id, SN, fq1_path, fq2_path, f'/Files/RawData/{SN}.barcodeToPos.h5', None, None, None, 16, 'cell', 0, 25, 25, 10, 'FALSE', 'FALSE', 'human', 'human', 'pbmc']\n",
    "                output_df.loc[len(output_df)] = result_list"
   ]
  },
  {
   "cell_type": "code",
   "execution_count": 72,
   "metadata": {},
   "outputs": [],
   "source": [
    "output_df.to_csv('0305_ascites_UMI.csv', index=None)"
   ]
  },
  {
   "cell_type": "code",
   "execution_count": 42,
   "metadata": {},
   "outputs": [
    {
     "data": {
      "text/plain": [
       "Index(['SN', 'Sample_name', 'FQ1', 'FQ2'], dtype='object')"
      ]
     },
     "execution_count": 42,
     "metadata": {},
     "output_type": "execute_result"
    }
   ],
   "source": [
    "output_df.columns"
   ]
  },
  {
   "cell_type": "code",
   "execution_count": null,
   "metadata": {},
   "outputs": [],
   "source": []
  }
 ],
 "metadata": {
  "kernelspec": {
   "display_name": "sc",
   "language": "python",
   "name": "python3"
  },
  "language_info": {
   "codemirror_mode": {
    "name": "ipython",
    "version": 3
   },
   "file_extension": ".py",
   "mimetype": "text/x-python",
   "name": "python",
   "nbconvert_exporter": "python",
   "pygments_lexer": "ipython3",
   "version": "3.11.6"
  }
 },
 "nbformat": 4,
 "nbformat_minor": 2
}
