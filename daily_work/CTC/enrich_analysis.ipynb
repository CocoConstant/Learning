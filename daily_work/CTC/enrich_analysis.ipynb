{
 "cells": [
  {
   "cell_type": "code",
   "execution_count": 1,
   "metadata": {},
   "outputs": [],
   "source": [
    "import scanpy as sc\n",
    "import numpy as np\n",
    "import pandas as pd\n",
    "import matplotlib.pyplot as plt\n",
    "import seaborn as sns"
   ]
  },
  {
   "cell_type": "code",
   "execution_count": 2,
   "metadata": {},
   "outputs": [],
   "source": [
    "ctc = sc.read_h5ad('ctc_heterogeneity.h5ad')"
   ]
  },
  {
   "cell_type": "code",
   "execution_count": 3,
   "metadata": {},
   "outputs": [
    {
     "data": {
      "text/plain": [
       "AnnData object with n_obs × n_vars = 261 × 12557\n",
       "    obs: 'total_counts', 'pct_counts_mt', 'pct_counts_rb', 'pct_counts_hb', 'n_genes', 'doublet_score', 'chip_id', 'patient_info', 'phage_info', '_scvi_batch', '_scvi_labels', 'leiden', 'anno', 'chip_color', 'anno_ctc'\n",
       "    var: 'n_cells', 'highly_variable', 'highly_variable_rank', 'means', 'variances', 'variances_norm', 'highly_variable_nbatches'\n",
       "    uns: '_scvi_manager_uuid', '_scvi_uuid', 'anno_colors', 'anno_ctc_colors', 'chip_id_colors', 'hvg', 'leiden', 'leiden_colors', 'log1p', 'neighbors', 'umap'\n",
       "    obsm: 'X_scVI', 'X_umap', '_scvi_extra_categorical_covs', '_scvi_extra_continuous_covs'\n",
       "    layers: 'counts'\n",
       "    obsp: 'connectivities', 'distances'"
      ]
     },
     "execution_count": 3,
     "metadata": {},
     "output_type": "execute_result"
    }
   ],
   "source": [
    "ctc"
   ]
  },
  {
   "cell_type": "code",
   "execution_count": 4,
   "metadata": {},
   "outputs": [
    {
     "name": "stderr",
     "output_type": "stream",
     "text": [
      "/tmp/ipykernel_801/3516665300.py:9: FutureWarning: The behavior of Series.replace (and DataFrame.replace) with CategoricalDtype is deprecated. In a future version, replace will only be used for cases that preserve the categories. To change the categories, use ser.cat.rename_categories instead.\n",
      "  ctc.obs['anno_II'] = ctc.obs['leiden'].replace(anno_mappint)\n"
     ]
    }
   ],
   "source": [
    "anno_mappint = {\n",
    "    \"0\": \"pEMT\",\n",
    "    \"1\": \"Domancy\",\n",
    "    \"2\": \"Domancy\",\n",
    "    \"3\": \"Plasticity\",\n",
    "    \"4\": \"Plasticity\"\n",
    "}\n",
    "\n",
    "ctc.obs['anno_II'] = ctc.obs['leiden'].replace(anno_mappint)"
   ]
  },
  {
   "cell_type": "code",
   "execution_count": 5,
   "metadata": {},
   "outputs": [],
   "source": [
    "sc.tl.rank_genes_groups(ctc, groupby='anno_II', method='wilcoxon')"
   ]
  },
  {
   "cell_type": "code",
   "execution_count": 6,
   "metadata": {},
   "outputs": [],
   "source": [
    "result = ctc.uns['rank_genes_groups']\n",
    "\n",
    "# get cluster names\n",
    "groups = result['names'].dtype.names\n",
    "\n",
    "df = pd.DataFrame()\n",
    "\n",
    "# extract top 200 genes for each group\n",
    "for group in groups:\n",
    "    genes = result['names'][group][:200]\n",
    "    df[group] = genes"
   ]
  },
  {
   "cell_type": "code",
   "execution_count": 7,
   "metadata": {},
   "outputs": [
    {
     "data": {
      "text/html": [
       "<div>\n",
       "<style scoped>\n",
       "    .dataframe tbody tr th:only-of-type {\n",
       "        vertical-align: middle;\n",
       "    }\n",
       "\n",
       "    .dataframe tbody tr th {\n",
       "        vertical-align: top;\n",
       "    }\n",
       "\n",
       "    .dataframe thead th {\n",
       "        text-align: right;\n",
       "    }\n",
       "</style>\n",
       "<table border=\"1\" class=\"dataframe\">\n",
       "  <thead>\n",
       "    <tr style=\"text-align: right;\">\n",
       "      <th></th>\n",
       "      <th>pEMT</th>\n",
       "      <th>Domancy</th>\n",
       "      <th>Plasticity</th>\n",
       "    </tr>\n",
       "  </thead>\n",
       "  <tbody>\n",
       "    <tr>\n",
       "      <th>0</th>\n",
       "      <td>PTPRM</td>\n",
       "      <td>AC090204.1</td>\n",
       "      <td>AL627171.2</td>\n",
       "    </tr>\n",
       "    <tr>\n",
       "      <th>1</th>\n",
       "      <td>TCF4</td>\n",
       "      <td>MTRNR2L5</td>\n",
       "      <td>PRKCB</td>\n",
       "    </tr>\n",
       "    <tr>\n",
       "      <th>2</th>\n",
       "      <td>NEAT1</td>\n",
       "      <td>MTRNR2L1</td>\n",
       "      <td>NRG1</td>\n",
       "    </tr>\n",
       "    <tr>\n",
       "      <th>3</th>\n",
       "      <td>CDH13</td>\n",
       "      <td>FP236383.1</td>\n",
       "      <td>CSMD1</td>\n",
       "    </tr>\n",
       "    <tr>\n",
       "      <th>4</th>\n",
       "      <td>DOCK4</td>\n",
       "      <td>MTCO3P13</td>\n",
       "      <td>EYS</td>\n",
       "    </tr>\n",
       "    <tr>\n",
       "      <th>...</th>\n",
       "      <td>...</td>\n",
       "      <td>...</td>\n",
       "      <td>...</td>\n",
       "    </tr>\n",
       "    <tr>\n",
       "      <th>195</th>\n",
       "      <td>CDH5</td>\n",
       "      <td>COL1A1</td>\n",
       "      <td>AC098588.2</td>\n",
       "    </tr>\n",
       "    <tr>\n",
       "      <th>196</th>\n",
       "      <td>PKP4</td>\n",
       "      <td>HBA2</td>\n",
       "      <td>DNAH14</td>\n",
       "    </tr>\n",
       "    <tr>\n",
       "      <th>197</th>\n",
       "      <td>ERC1</td>\n",
       "      <td>EEF1A1</td>\n",
       "      <td>RNU5B-1</td>\n",
       "    </tr>\n",
       "    <tr>\n",
       "      <th>198</th>\n",
       "      <td>CMIP</td>\n",
       "      <td>RNA5SP368</td>\n",
       "      <td>DLEU1</td>\n",
       "    </tr>\n",
       "    <tr>\n",
       "      <th>199</th>\n",
       "      <td>AL589693.1</td>\n",
       "      <td>CLTC</td>\n",
       "      <td>TMEM132D</td>\n",
       "    </tr>\n",
       "  </tbody>\n",
       "</table>\n",
       "<p>200 rows × 3 columns</p>\n",
       "</div>"
      ],
      "text/plain": [
       "           pEMT     Domancy  Plasticity\n",
       "0         PTPRM  AC090204.1  AL627171.2\n",
       "1          TCF4    MTRNR2L5       PRKCB\n",
       "2         NEAT1    MTRNR2L1        NRG1\n",
       "3         CDH13  FP236383.1       CSMD1\n",
       "4         DOCK4    MTCO3P13         EYS\n",
       "..          ...         ...         ...\n",
       "195        CDH5      COL1A1  AC098588.2\n",
       "196        PKP4        HBA2      DNAH14\n",
       "197        ERC1      EEF1A1     RNU5B-1\n",
       "198        CMIP   RNA5SP368       DLEU1\n",
       "199  AL589693.1        CLTC    TMEM132D\n",
       "\n",
       "[200 rows x 3 columns]"
      ]
     },
     "execution_count": 7,
     "metadata": {},
     "output_type": "execute_result"
    }
   ],
   "source": [
    "df"
   ]
  },
  {
   "cell_type": "code",
   "execution_count": 8,
   "metadata": {},
   "outputs": [
    {
     "data": {
      "text/plain": [
       "dict_keys(['params', 'names', 'scores', 'pvals', 'pvals_adj', 'logfoldchanges'])"
      ]
     },
     "execution_count": 8,
     "metadata": {},
     "output_type": "execute_result"
    }
   ],
   "source": [
    "ctc.uns['rank_genes_groups'].keys()"
   ]
  },
  {
   "cell_type": "code",
   "execution_count": 9,
   "metadata": {},
   "outputs": [
    {
     "name": "stdout",
     "output_type": "stream",
     "text": [
      "37\n",
      "126\n",
      "4\n"
     ]
    }
   ],
   "source": [
    "import gseapy as gp\n",
    "\n",
    "for i in df.columns:\n",
    "    gene_list = result['names'][i][(result['pvals_adj'][i] < 0.05) & (result['logfoldchanges'][i] > 0.25)].tolist()\n",
    "    print(len(gene_list))\n",
    "    enr = gp.enrichr(\n",
    "        gene_list=gene_list,\n",
    "        gene_sets=['GO_Biological_Process_2025', 'GO_Molecular_Function_2025', 'GO_Cellular_Component_2025'],\n",
    "    )\n",
    "\n",
    "    enr.results.to_csv(f'/mnt/c/Users/ouyangkang/Desktop/enrichment_{i}.csv')"
   ]
  },
  {
   "cell_type": "code",
   "execution_count": null,
   "metadata": {},
   "outputs": [],
   "source": []
  }
 ],
 "metadata": {
  "kernelspec": {
   "display_name": "sc",
   "language": "python",
   "name": "python3"
  },
  "language_info": {
   "codemirror_mode": {
    "name": "ipython",
    "version": 3
   },
   "file_extension": ".py",
   "mimetype": "text/x-python",
   "name": "python",
   "nbconvert_exporter": "python",
   "pygments_lexer": "ipython3",
   "version": "3.11.6"
  }
 },
 "nbformat": 4,
 "nbformat_minor": 2
}
